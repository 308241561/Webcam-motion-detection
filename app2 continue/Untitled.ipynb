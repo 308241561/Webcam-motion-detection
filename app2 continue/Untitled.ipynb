{
 "cells": [
  {
   "cell_type": "code",
   "execution_count": 3,
   "id": "c2c2cbd8",
   "metadata": {},
   "outputs": [
    {
     "data": {
      "text/plain": [
       "['XGame',\n",
       " 'AutoLayout',\n",
       " 'Testings.ipynb',\n",
       " 'Python basics',\n",
       " '.DS_Store',\n",
       " '.localized',\n",
       " 'Untitled.ipynb',\n",
       " 'Xylophone',\n",
       " 'Magic-8-Ball-iOS13-Completed',\n",
       " 'Dicee-iOS13',\n",
       " 'data.json',\n",
       " 'MyPlayground.playground',\n",
       " 'supermarkets',\n",
       " '.ipynb_checkpoints',\n",
       " 'EGame',\n",
       " 'app1.py',\n",
       " 'EggTimer',\n",
       " 'CGame',\n",
       " 'source.py',\n",
       " 'BGame',\n",
       " 'AGame',\n",
       " 'The Python Mega Course: Build 10 Real World Applications']"
      ]
     },
     "execution_count": 3,
     "metadata": {},
     "output_type": "execute_result"
    }
   ],
   "source": [
    "import os\n",
    "os.listdir()"
   ]
  }
 ],
 "metadata": {
  "kernelspec": {
   "display_name": "Python 3 (ipykernel)",
   "language": "python",
   "name": "python3"
  },
  "language_info": {
   "codemirror_mode": {
    "name": "ipython",
    "version": 3
   },
   "file_extension": ".py",
   "mimetype": "text/x-python",
   "name": "python",
   "nbconvert_exporter": "python",
   "pygments_lexer": "ipython3",
   "version": "3.9.7"
  }
 },
 "nbformat": 4,
 "nbformat_minor": 5
}
